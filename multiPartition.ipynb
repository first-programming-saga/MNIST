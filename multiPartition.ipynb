{
 "cells": [
  {
   "cell_type": "markdown",
   "metadata": {},
   "source": [
    "# 多値分類\n"
   ]
  },
  {
   "cell_type": "code",
   "execution_count": 1,
   "metadata": {},
   "outputs": [],
   "source": [
    "from sklearn.datasets import fetch_openml\n",
    "from sklearn.linear_model import SGDClassifier\n",
    "import numpy as np\n",
    "import matplotlib.pyplot as plt\n",
    "import pandas"
   ]
  },
  {
   "cell_type": "markdown",
   "metadata": {},
   "source": [
    "データ読み込み"
   ]
  },
  {
   "cell_type": "code",
   "execution_count": 2,
   "metadata": {},
   "outputs": [],
   "source": [
    "mnist = fetch_openml('mnist_784', version=1)\n",
    "x_train, x_test = mnist['data'].iloc[:60000],mnist['data'].iloc[60000:]\n",
    "y_train, y_test = mnist['target'].iloc[:60000],mnist['target'].iloc[60000:]\n",
    "y_train = y_train.astype(np.int8)\n",
    "y_test = y_test.astype(np.int8)\n"
   ]
  },
  {
   "cell_type": "code",
   "execution_count": 3,
   "metadata": {},
   "outputs": [],
   "source": [
    "sgd_clf = SGDClassifier(random_state=48)\n",
    "sgd_clf.fit(x_train,y_train)\n",
    "prediction = sgd_clf.predict(x_test)"
   ]
  },
  {
   "cell_type": "code",
   "execution_count": 4,
   "metadata": {},
   "outputs": [
    {
     "data": {
      "text/plain": [
       "array([[ 968,    0,   15,    4,    4,   22,   21,    3,   10,    8],\n",
       "       [   0, 1086,    6,    0,    3,    1,    3,    4,    6,    4],\n",
       "       [   0,    0,  660,    1,    1,    0,    5,    8,    1,    0],\n",
       "       [   3,   20,  246,  974,   11,  265,   17,   17,  123,   27],\n",
       "       [   0,    0,    9,    1,  857,    6,    7,    6,    9,   25],\n",
       "       [   2,    1,    0,    1,    0,  497,   11,    0,    8,    1],\n",
       "       [   2,    3,    5,    1,    4,   13,  873,    1,    3,    0],\n",
       "       [   1,    2,   15,   13,    6,   11,    1,  946,   10,   51],\n",
       "       [   3,   23,   66,    9,   30,   64,   20,   15,  794,   26],\n",
       "       [   1,    0,   10,    6,   66,   13,    0,   28,   10,  867]],\n",
       "      dtype=int32)"
      ]
     },
     "execution_count": 4,
     "metadata": {},
     "output_type": "execute_result"
    }
   ],
   "source": [
    "result = np.zeros((10,10),dtype = np.int32)\n",
    "for k in range(len(y_test)):\n",
    "    i = prediction[k]\n",
    "    j = y_test.iloc[k]\n",
    "    result[i][j] += 1\n",
    "result"
   ]
  },
  {
   "cell_type": "code",
   "execution_count": 5,
   "metadata": {},
   "outputs": [
    {
     "name": "stdout",
     "output_type": "stream",
     "text": [
      "0 980 0.98776\n",
      "1 1135 0.95683\n",
      "2 1032 0.63953\n",
      "3 1010 0.96436\n",
      "4 982 0.87271\n",
      "5 892 0.55717\n",
      "6 958 0.91127\n",
      "7 1028 0.92023\n",
      "8 974 0.81520\n",
      "9 1009 0.85927\n"
     ]
    }
   ],
   "source": [
    "for i in range(10):\n",
    "    c = 0\n",
    "    for j in range(10):\n",
    "        c += result[j][i]\n",
    "    print(i, c, format(result[i][i]/c,'.5f'))"
   ]
  },
  {
   "cell_type": "markdown",
   "metadata": {},
   "source": [
    "一列目は0に対する判定、二列目は1に対する判定など。対角成分が正しい判定数。"
   ]
  },
  {
   "cell_type": "code",
   "execution_count": 6,
   "metadata": {},
   "outputs": [
    {
     "data": {
      "image/png": "[encoded data removed]",
      "text/plain": [
       "<Figure size 720x720 with 1 Axes>"
      ]
     },
     "metadata": {
      "needs_background": "light"
     },
     "output_type": "display_data"
    }
   ],
   "source": [
    "plt.figure(figsize=(10,10))\n",
    "plt.matshow(result,cmap=plt.cm.PuBu_r,fignum=1)\n",
    "plt.savefig('multiClass.pdf')\n",
    "plt.show()"
   ]
  }
 ],
 "metadata": {
  "interpreter": {
   "hash": "5b50574aca822a4663eeb358827631e5cbe081f130521b0066dec6b864ef6f2f"
  },
  "kernelspec": {
   "display_name": "Python 3.9.7 ('myenv')",
   "language": "python",
   "name": "python3"
  },
  "language_info": {
   "codemirror_mode": {
    "name": "ipython",
    "version": 3
   },
   "file_extension": ".py",
   "mimetype": "text/x-python",
   "name": "python",
   "nbconvert_exporter": "python",
   "pygments_lexer": "ipython3",
   "version": "3.9.7"
  },
  "orig_nbformat": 4
 },
 "nbformat": 4,
 "nbformat_minor": 2
}
