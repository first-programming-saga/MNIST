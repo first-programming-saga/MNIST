{
 "cells": [
  {
   "cell_type": "markdown",
   "metadata": {},
   "source": [
    "5とそれ以外に分類"
   ]
  },
  {
   "cell_type": "code",
   "execution_count": 1,
   "metadata": {},
   "outputs": [],
   "source": [
    "from sklearn.datasets import fetch_openml\n",
    "from sklearn.linear_model import SGDClassifier\n",
    "from sklearn.model_selection import cross_val_predict\n",
    "from sklearn.metrics import confusion_matrix\n",
    "import numpy as np"
   ]
  },
  {
   "cell_type": "code",
   "execution_count": 2,
   "metadata": {},
   "outputs": [],
   "source": [
    "\n",
    "mnist = fetch_openml('mnist_784', version=1)\n",
    "x_train, x_test = mnist['data'].iloc[:60000],mnist['data'].iloc[60000:]\n",
    "y_train, y_test = mnist['target'].iloc[:60000],mnist['target'].iloc[60000:]\n",
    "y_train = y_train.astype(np.int8)\n",
    "y_test = y_test.astype(np.int8)\n"
   ]
  },
  {
   "cell_type": "code",
   "execution_count": 3,
   "metadata": {},
   "outputs": [
    {
     "data": {
      "text/plain": [
       "array([[53786,   793],\n",
       "       [ 1597,  3824]], dtype=int64)"
      ]
     },
     "execution_count": 3,
     "metadata": {},
     "output_type": "execute_result"
    }
   ],
   "source": [
    "y_train5 = (y_train == 5)\n",
    "y_test5 = (y_test == 5)\n",
    "sgd_clf = SGDClassifier(random_state=48)\n",
    "y_train_pred = cross_val_predict(sgd_clf,x_train,y_train5,cv=3)\n",
    "result = confusion_matrix(y_train5,y_train_pred)\n",
    "result"
   ]
  },
  {
   "cell_type": "code",
   "execution_count": 4,
   "metadata": {},
   "outputs": [
    {
     "name": "stdout",
     "output_type": "stream",
     "text": [
      "5以外を正しく5以外と判定(true negative):53786\n",
      "5以外を誤って5と判定(false positive):793\n",
      "5を誤って5以外と判定(false negative):1597\n",
      "5を正しく5と判定(true positive):3824\n"
     ]
    }
   ],
   "source": [
    "print(f'5以外を正しく5以外と判定(true negative):{result[0][0]}')\n",
    "print(f'5以外を誤って5と判定(false positive):{result[0][1]}')\n",
    "print(f'5を誤って5以外と判定(false negative):{result[1][0]}')\n",
    "print(f'5を正しく5と判定(true positive):{result[1][1]}')"
   ]
  },
  {
   "cell_type": "code",
   "execution_count": 5,
   "metadata": {},
   "outputs": [
    {
     "name": "stdout",
     "output_type": "stream",
     "text": [
      "0.8282434481264891 0.7054049068437558 0.7619047619047619\n"
     ]
    }
   ],
   "source": [
    "precision = result[1][1]/(result[1][1] + result[0][1])\n",
    "recall = result[1][1]/(result[1][1] + result[1][0])\n",
    "f1 = 2*precision*recall/(precision+recall)\n",
    "print(precision, recall,f1)"
   ]
  }
 ],
 "metadata": {
  "interpreter": {
   "hash": "ddafbbf4347d0b4a8ca2d67a8cf47c9a236a0ee7708cf872d86a0b5d08596010"
  },
  "kernelspec": {
   "display_name": "Python 3.9.7 64-bit (windows store)",
   "name": "python3"
  },
  "language_info": {
   "codemirror_mode": {
    "name": "ipython",
    "version": 3
   },
   "file_extension": ".py",
   "mimetype": "text/x-python",
   "name": "python",
   "nbconvert_exporter": "python",
   "pygments_lexer": "ipython3",
   "version": "3.9.7"
  },
  "orig_nbformat": 4
 },
 "nbformat": 4,
 "nbformat_minor": 2
}
