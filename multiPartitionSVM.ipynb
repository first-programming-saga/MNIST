{
 "cells": [
  {
   "cell_type": "markdown",
   "metadata": {},
   "source": [
    "5とそれ以外に分類"
   ]
  },
  {
   "cell_type": "code",
   "execution_count": null,
   "metadata": {},
   "outputs": [],
   "source": [
    "from sklearn.datasets import fetch_openml\n",
    "from sklearn.svm import SVC\n",
    "import numpy as np\n",
    "import matplotlib.pyplot as plt\n",
    "import pandas"
   ]
  },
  {
   "cell_type": "code",
   "execution_count": null,
   "metadata": {},
   "outputs": [],
   "source": [
    "plt.rcParams['font.size'] = 16\n",
    "plt.rcParams['mathtext.fontset'] = 'cm'\n",
    "plt.rcParams['mathtext.default'] = 'it'\n",
    "plt.rcParams['figure.subplot.bottom']=0.2\n",
    "plt.rcParams['figure.subplot.left']=0.2"
   ]
  },
  {
   "cell_type": "code",
   "execution_count": null,
   "metadata": {},
   "outputs": [],
   "source": [
    "\n",
    "mnist = fetch_openml('mnist_784', version=1)\n",
    "x_train, x_test = mnist['data'].iloc[:60000], mnist['data'].iloc[60000:]\n",
    "y_train, y_test = mnist['target'].iloc[:60000], mnist['target'].iloc[60000:]\n",
    "y_train = y_train.astype(np.int8)\n",
    "y_test = y_test.astype(np.int8)\n"
   ]
  },
  {
   "cell_type": "code",
   "execution_count": null,
   "metadata": {},
   "outputs": [],
   "source": [
    "clf = SVC()\n",
    "clf.fit(x_train,y_train)\n",
    "prediction = clf.predict(x_test)\n",
    "prediction"
   ]
  },
  {
   "cell_type": "code",
   "execution_count": null,
   "metadata": {},
   "outputs": [],
   "source": [
    "result = np.zeros((10, 10), dtype = np.int32)\n",
    "for k in range(len(y_test)):\n",
    "    i = prediction[k]\n",
    "    j = y_test.iloc[k]\n",
    "    result[i][j] += 1\n",
    "result"
   ]
  },
  {
   "cell_type": "code",
   "execution_count": null,
   "metadata": {},
   "outputs": [],
   "source": [
    "for i in range(10):\n",
    "    c = 0\n",
    "    for j in range(10):\n",
    "        c += result[j][i]\n",
    "    print(i, c, format(result[i][i] / c, '.5f'))"
   ]
  },
  {
   "cell_type": "markdown",
   "metadata": {},
   "source": [
    "訓練データが正しく分類できること\n",
    "正しく分類できていない場合を表示"
   ]
  },
  {
   "cell_type": "code",
   "execution_count": null,
   "metadata": {},
   "outputs": [],
   "source": [
    "fig,ax=plt.subplots()\n",
    "ax.matshow(result,cmap=plt.cm.PuBu_r)\n",
    "ax.set_ylabel('recognition')\n",
    "ax.set_xlabel('original label')\n",
    "ax.xaxis.set_label_position('top')\n",
    "ax.set_xticks([k for k in range(10)])\n",
    "ax.set_yticks([k for k in range(10)])\n",
    "plt.savefig('multiClassSVC.pdf')\n",
    "plt.show()"
   ]
  }
 ],
 "metadata": {
  "kernelspec": {
   "display_name": "myenv",
   "language": "python",
   "name": "python3"
  },
  "language_info": {
   "codemirror_mode": {
    "name": "ipython",
    "version": 3
   },
   "file_extension": ".py",
   "mimetype": "text/x-python",
   "name": "python",
   "nbconvert_exporter": "python",
   "pygments_lexer": "ipython3",
   "version": "3.10.8"
  },
  "orig_nbformat": 4,
  "vscode": {
   "interpreter": {
    "hash": "b3b804b6b7a7d9b475cf928428dd1242016eacc24c47853aaf0f8d1d2228aa39"
   }
  }
 },
 "nbformat": 4,
 "nbformat_minor": 2
}
