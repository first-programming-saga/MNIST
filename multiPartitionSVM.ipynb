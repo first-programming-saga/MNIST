{
 "cells": [
  {
   "cell_type": "markdown",
   "metadata": {},
   "source": [
    "5とそれ以外に分類"
   ]
  },
  {
   "cell_type": "code",
   "execution_count": 1,
   "metadata": {},
   "outputs": [],
   "source": [
    "from sklearn.datasets import fetch_openml\n",
    "from sklearn.svm import SVC\n",
    "import numpy as np\n",
    "import matplotlib.pyplot as plt\n",
    "import pandas"
   ]
  },
  {
   "cell_type": "code",
   "execution_count": 2,
   "metadata": {},
   "outputs": [],
   "source": [
    "\n",
    "mnist = fetch_openml('mnist_784', version=1)\n",
    "x_train, x_test = mnist['data'].iloc[:60000], mnist['data'].iloc[60000:]\n",
    "y_train, y_test = mnist['target'].iloc[:60000], mnist['target'].iloc[60000:]\n",
    "y_train = y_train.astype(np.int8)\n",
    "y_test = y_test.astype(np.int8)\n"
   ]
  },
  {
   "cell_type": "code",
   "execution_count": 3,
   "metadata": {},
   "outputs": [
    {
     "data": {
      "text/plain": [
       "array([7, 2, 1, ..., 4, 5, 6], dtype=int8)"
      ]
     },
     "execution_count": 3,
     "metadata": {},
     "output_type": "execute_result"
    }
   ],
   "source": [
    "clf = SVC()\n",
    "clf.fit(x_train,y_train)\n",
    "prediction = clf.predict(x_test)\n",
    "prediction"
   ]
  },
  {
   "cell_type": "code",
   "execution_count": 4,
   "metadata": {},
   "outputs": [
    {
     "data": {
      "text/plain": [
       "array([[ 973,    0,    6,    0,    0,    2,    6,    0,    3,    3],\n",
       "       [   0, 1126,    1,    0,    0,    0,    2,    6,    0,    4],\n",
       "       [   1,    3, 1006,    2,    5,    0,    0,   11,    2,    1],\n",
       "       [   0,    1,    2,  995,    0,    9,    0,    1,    6,    7],\n",
       "       [   0,    0,    1,    0,  961,    0,    2,    1,    3,   10],\n",
       "       [   2,    1,    0,    2,    0,  871,    3,    0,    2,    2],\n",
       "       [   1,    1,    2,    0,    3,    4,  944,    0,    2,    1],\n",
       "       [   1,    1,    7,    5,    0,    1,    0,  996,    3,    7],\n",
       "       [   2,    2,    6,    5,    2,    4,    1,    2,  950,    4],\n",
       "       [   0,    0,    1,    1,   11,    1,    0,   11,    3,  970]],\n",
       "      dtype=int32)"
      ]
     },
     "execution_count": 4,
     "metadata": {},
     "output_type": "execute_result"
    }
   ],
   "source": [
    "result = np.zeros((10, 10), dtype = np.int32)\n",
    "for k in range(len(y_test)):\n",
    "    i = prediction[k]\n",
    "    j = y_test.iloc[k]\n",
    "    result[i][j] += 1\n",
    "result"
   ]
  },
  {
   "cell_type": "code",
   "execution_count": 5,
   "metadata": {},
   "outputs": [
    {
     "name": "stdout",
     "output_type": "stream",
     "text": [
      "0 980 0.99286\n",
      "1 1135 0.99207\n",
      "2 1032 0.97481\n",
      "3 1010 0.98515\n",
      "4 982 0.97862\n",
      "5 892 0.97646\n",
      "6 958 0.98539\n",
      "7 1028 0.96887\n",
      "8 974 0.97536\n",
      "9 1009 0.96135\n"
     ]
    }
   ],
   "source": [
    "for i in range(10):\n",
    "    c = 0\n",
    "    for j in range(10):\n",
    "        c += result[j][i]\n",
    "    print(i, c, format(result[i][i] / c, '.5f'))"
   ]
  },
  {
   "cell_type": "markdown",
   "metadata": {},
   "source": [
    "訓練データが正しく分類できること\n",
    "正しく分類できていない場合を表示"
   ]
  },
  {
   "cell_type": "code",
   "execution_count": 6,
   "metadata": {},
   "outputs": [
    {
     "data": {
      "image/png": "[encoded data removed]",
      "text/plain": [
       "<Figure size 720x720 with 1 Axes>"
      ]
     },
     "metadata": {
      "needs_background": "light"
     },
     "output_type": "display_data"
    }
   ],
   "source": [
    "plt.figure(figsize=(10,10))\n",
    "plt.matshow(result,cmap=plt.cm.PuBu_r,fignum=1)\n",
    "plt.savefig('multiClassSVC.pdf')\n",
    "plt.show()"
   ]
  }
 ],
 "metadata": {
  "interpreter": {
   "hash": "5b50574aca822a4663eeb358827631e5cbe081f130521b0066dec6b864ef6f2f"
  },
  "kernelspec": {
   "display_name": "Python 3.9.7 ('myenv')",
   "language": "python",
   "name": "python3"
  },
  "language_info": {
   "codemirror_mode": {
    "name": "ipython",
    "version": 3
   },
   "file_extension": ".py",
   "mimetype": "text/x-python",
   "name": "python",
   "nbconvert_exporter": "python",
   "pygments_lexer": "ipython3",
   "version": "3.9.7"
  },
  "orig_nbformat": 4
 },
 "nbformat": 4,
 "nbformat_minor": 2
}
