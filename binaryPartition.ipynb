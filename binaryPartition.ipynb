{
 "cells": [
  {
   "cell_type": "markdown",
   "metadata": {},
   "source": [
    "# 二値分類\n",
    "5とそれ以外に分類"
   ]
  },
  {
   "cell_type": "code",
   "execution_count": null,
   "metadata": {},
   "outputs": [],
   "source": [
    "from sklearn.datasets import fetch_openml\n",
    "from sklearn.linear_model import SGDClassifier\n",
    "import numpy as np\n",
    "import matplotlib.pyplot as plt\n",
    "import pandas"
   ]
  },
  {
   "cell_type": "markdown",
   "metadata": {},
   "source": [
    "データ読み込み\n",
    "\n",
    "- x_trainとy_trainは、訓練データ。x_textとy_testは試験データ\n",
    "- labelは整数に変換しておく"
   ]
  },
  {
   "cell_type": "code",
   "execution_count": null,
   "metadata": {},
   "outputs": [],
   "source": [
    "mnist = fetch_openml('mnist_784', version=1)\n",
    "x_train, x_test = mnist['data'].iloc[:60000], mnist['data'].iloc[60000:]\n",
    "y_train, y_test = mnist['target'].iloc[:60000], mnist['target'].iloc[60000:]\n",
    "y_train = y_train.astype(np.int8)\n",
    "y_test = y_test.astype(np.int8)"
   ]
  },
  {
   "cell_type": "markdown",
   "metadata": {},
   "source": [
    "訓練と予想"
   ]
  },
  {
   "cell_type": "code",
   "execution_count": null,
   "metadata": {},
   "outputs": [],
   "source": [
    "y_train5 = (y_train == 5)\n",
    "sgd_clf = SGDClassifier(random_state=48) #確率的最急降下法\n",
    "sgd_clf.fit(x_train,y_train5) #訓練\n",
    "predict:list[bool] = sgd_clf.predict(x_test) #type:ignore"
   ]
  },
  {
   "cell_type": "code",
   "execution_count": null,
   "metadata": {},
   "outputs": [],
   "source": [
    "def findErrors(y:pandas.DataFrame,pre:list[bool]) -> dict[int,int]:\n",
    "    \"\"\"\n",
    "    データが正しく分類できるかを判定\n",
    "    \"\"\"\n",
    "    output = dict()\n",
    "    for i in range(len(pre)):\n",
    "        f = False\n",
    "        if y.iloc[i] == 5 and not pre[i]:\n",
    "            f = True\n",
    "        if y.iloc[i] != 5 and pre[i]:\n",
    "            f = True\n",
    "        if f:\n",
    "            output[i] = y.iloc[i]\n",
    "    return output\n"
   ]
  },
  {
   "cell_type": "markdown",
   "metadata": {},
   "source": [
    "データの正解率"
   ]
  },
  {
   "cell_type": "code",
   "execution_count": null,
   "metadata": {},
   "outputs": [],
   "source": [
    "def errorRatio(errors:dict[int,int],pre:list[bool])->tuple[float,float]:\n",
    "    \"\"\"\n",
    "    正解率を評価する\n",
    "\n",
    "    parameters\n",
    "    ----\n",
    "    y: テスト用ラベル\n",
    "\n",
    "    return\n",
    "    ----\n",
    "    \"5\"を\"5\"以外と判定した割合、\"5\"以外を\"5\"と判定した割合\n",
    "    \"\"\"\n",
    "    n = len(pre)\n",
    "    fn = 0\n",
    "    fp = 0\n",
    "    for i in errors.keys():     \n",
    "        if errors[i] ==5:   \n",
    "            fn += 1\n",
    "        if errors[i] != 5:\n",
    "            fp += 1\n",
    "    return fn / n, fp / n \n"
   ]
  },
  {
   "cell_type": "code",
   "execution_count": null,
   "metadata": {},
   "outputs": [],
   "source": [
    "def showResult(input:dict[int,int], d:pandas.DataFrame,w = 10, maxNum = 0, filename=''):\n",
    "    \"\"\"\n",
    "    判定結果を図示\n",
    "    \"\"\"\n",
    "    if maxNum == 0:\n",
    "        maxNum = len(input) \n",
    "    n = int(maxNum / w) + 1\n",
    "    m = min(n, w)\n",
    "    fig, ax = plt.subplots(n, m, figsize=(10, 10))\n",
    "    s = 0\n",
    "    for k in input.keys():\n",
    "        y = int(s/w)\n",
    "        x = s % w\n",
    "        digit = d.iloc[k]\n",
    "        image = digit.values.reshape(28,28)\n",
    "        if n > 1:\n",
    "            ax[y][x].imshow(image, cmap='binary')\n",
    "        else:\n",
    "            ax[x].imshow(image, cmap='binary')\n",
    "        s += 1\n",
    "        if s >= maxNum:\n",
    "            break\n",
    "    if n == 1:\n",
    "        for a in ax:\n",
    "            a.axis('off')\n",
    "    else:\n",
    "        for a in ax:\n",
    "            for aa in a:\n",
    "                aa.axis('off')\n",
    "    if len(filename)>0:\n",
    "        plt.savefig(filename)\n",
    "    plt.show()"
   ]
  },
  {
   "cell_type": "code",
   "execution_count": null,
   "metadata": {},
   "outputs": [],
   "source": [
    "errors = findErrors(y_test,predict)\n",
    "fn, fp = errorRatio(errors,predict)\n",
    "print(f'5をそれ以外と判定した割合:{fn}')\n",
    "print(f'5以外を5と判定した割合:{fp}')\n",
    "showResult(errors, x_test, w = 5, maxNum = 50, filename='errors.pdf')"
   ]
  }
 ],
 "metadata": {
  "kernelspec": {
   "display_name": "myenv",
   "language": "python",
   "name": "python3"
  },
  "language_info": {
   "codemirror_mode": {
    "name": "ipython",
    "version": 3
   },
   "file_extension": ".py",
   "mimetype": "text/x-python",
   "name": "python",
   "nbconvert_exporter": "python",
   "pygments_lexer": "ipython3",
   "version": "3.12.2"
  },
  "orig_nbformat": 4,
  "vscode": {
   "interpreter": {
    "hash": "b3b804b6b7a7d9b475cf928428dd1242016eacc24c47853aaf0f8d1d2228aa39"
   }
  }
 },
 "nbformat": 4,
 "nbformat_minor": 2
}
